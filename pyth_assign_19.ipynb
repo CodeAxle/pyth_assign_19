{
 "cells": [
  {
   "cell_type": "markdown",
   "id": "54996f82",
   "metadata": {},
   "source": [
    "# 1."
   ]
  },
  {
   "cell_type": "code",
   "execution_count": 1,
   "id": "8e6aa0a8",
   "metadata": {},
   "outputs": [
    {
     "name": "stdout",
     "output_type": "stream",
     "text": [
      "<class '__main__.Thing'>\n",
      "<__main__.Thing object at 0x0000020AEAE85F10>\n"
     ]
    }
   ],
   "source": [
    "# code:\n",
    "class Thing:\n",
    "    pass\n",
    "\n",
    "# Print the class Thing\n",
    "print(Thing)\n",
    "\n",
    "# Create an instance of Thing and print it\n",
    "example = Thing()\n",
    "print(example)\n",
    "#Printed values are not same"
   ]
  },
  {
   "cell_type": "markdown",
   "id": "a5c70b99",
   "metadata": {},
   "source": [
    "# 2."
   ]
  },
  {
   "cell_type": "code",
   "execution_count": 2,
   "id": "ca389da5",
   "metadata": {},
   "outputs": [
    {
     "name": "stdout",
     "output_type": "stream",
     "text": [
      "abc\n"
     ]
    }
   ],
   "source": [
    "# code:\n",
    "class Thing2:\n",
    "    letters = 'abc'\n",
    "\n",
    "print(Thing2.letters)"
   ]
  },
  {
   "cell_type": "markdown",
   "id": "631b4169",
   "metadata": {},
   "source": [
    "# 3."
   ]
  },
  {
   "cell_type": "code",
   "execution_count": 3,
   "id": "3e59773c",
   "metadata": {},
   "outputs": [
    {
     "name": "stdout",
     "output_type": "stream",
     "text": [
      "xyz\n"
     ]
    }
   ],
   "source": [
    "# code:\n",
    "class Thing3:\n",
    "    def __init__(self):\n",
    "        self.letters = 'xyz'\n",
    "\n",
    "# Create an object of Thing3 class\n",
    "obj = Thing3()\n",
    "\n",
    "# Print the instance attribute 'letters' of the object\n",
    "print(obj.letters)"
   ]
  },
  {
   "cell_type": "markdown",
   "id": "6c562dc2",
   "metadata": {},
   "source": [
    "# 4."
   ]
  },
  {
   "cell_type": "code",
   "execution_count": 4,
   "id": "07bd0f19",
   "metadata": {},
   "outputs": [],
   "source": [
    "# code:\n",
    "class Element:\n",
    "    def __init__(self, name, symbol, number):\n",
    "        self.name = name\n",
    "        self.symbol = symbol\n",
    "        self.number = number\n",
    "\n",
    "# Create a class object (instance) with the specified values\n",
    "hydrogen = Element('Hydrogen', 'H', 1)"
   ]
  },
  {
   "cell_type": "markdown",
   "id": "6ea75e1f",
   "metadata": {},
   "source": [
    "# 5."
   ]
  },
  {
   "cell_type": "code",
   "execution_count": 5,
   "id": "ba6fc91f",
   "metadata": {},
   "outputs": [
    {
     "name": "stdout",
     "output_type": "stream",
     "text": [
      "Hydrogen\n",
      "H\n",
      "1\n"
     ]
    }
   ],
   "source": [
    "# code:\n",
    "class Element:\n",
    "    def __init__(self, name, symbol, number):\n",
    "        self.name = name\n",
    "        self.symbol = symbol\n",
    "        self.number = number\n",
    "\n",
    "# Create a dictionary with keys and values\n",
    "hydrogen_dict = {'name': 'Hydrogen', 'symbol': 'H', 'number': 1}\n",
    "\n",
    "# Create an object (instance) of the Element class using the dictionary\n",
    "hydrogen = Element(**hydrogen_dict)\n",
    "\n",
    "# Print the attributes of the hydrogen object to verify\n",
    "print(hydrogen.name)    # Output: Hydrogen\n",
    "print(hydrogen.symbol)  # Output: H\n",
    "print(hydrogen.number)  # Output: 1"
   ]
  },
  {
   "cell_type": "markdown",
   "id": "088183b0",
   "metadata": {},
   "source": [
    "# 6."
   ]
  },
  {
   "cell_type": "code",
   "execution_count": 6,
   "id": "82a127c1",
   "metadata": {},
   "outputs": [
    {
     "name": "stdout",
     "output_type": "stream",
     "text": [
      "Name: Hydrogen, Symbol: H, Number: 1\n"
     ]
    }
   ],
   "source": [
    "# code:\n",
    "class Element:\n",
    "    def __init__(self, name, symbol, number):\n",
    "        self.name = name\n",
    "        self.symbol = symbol\n",
    "        self.number = number\n",
    "    \n",
    "    def dump(self):\n",
    "        print(f\"Name: {self.name}, Symbol: {self.symbol}, Number: {self.number}\")\n",
    "\n",
    "# Create a dictionary with keys and values for hydrogen\n",
    "hydrogen_dict = {'name': 'Hydrogen', 'symbol': 'H', 'number': 1}\n",
    "\n",
    "# Create an object (instance) of the Element class using the dictionary\n",
    "hydrogen = Element(**hydrogen_dict)\n",
    "\n",
    "# Call the dump() method on the hydrogen object to print its attributes\n",
    "hydrogen.dump()"
   ]
  },
  {
   "cell_type": "markdown",
   "id": "2ea8e5e1",
   "metadata": {},
   "source": [
    "# 7."
   ]
  },
  {
   "cell_type": "code",
   "execution_count": 10,
   "id": "43ab84f9",
   "metadata": {},
   "outputs": [
    {
     "name": "stdout",
     "output_type": "stream",
     "text": [
      "Name: Hydrogen, Symbol: H, Number: 1\n"
     ]
    }
   ],
   "source": [
    "# code:\n",
    "class Element:\n",
    "    def __init__(self, name, symbol, number):\n",
    "        self.name = name\n",
    "        self.symbol = symbol\n",
    "        self.number = number\n",
    "    \n",
    "    def __str__(self):\n",
    "        return f\"Name: {self.name}, Symbol: {self.symbol}, Number: {self.number}\"\n",
    "\n",
    "# Create a dictionary with keys and values for hydrogen\n",
    "hydrogen_dict = {'name': 'Hydrogen', 'symbol': 'H', 'number': 1}\n",
    "\n",
    "# Create an object (instance) of the Element class using the dictionary\n",
    "hydrogen = Element(**hydrogen_dict)\n",
    "\n",
    "# Call print(hydrogen) to see the string representation\n",
    "print(hydrogen)"
   ]
  },
  {
   "cell_type": "markdown",
   "id": "7a874147",
   "metadata": {},
   "source": [
    "# 8."
   ]
  },
  {
   "cell_type": "code",
   "execution_count": 14,
   "id": "8b75b8a4",
   "metadata": {},
   "outputs": [
    {
     "name": "stdout",
     "output_type": "stream",
     "text": [
      "Hydrogen\n",
      "H\n",
      "1\n"
     ]
    }
   ],
   "source": [
    "# code:\n",
    "class Element:\n",
    "    def __init__(self, name, symbol, number):\n",
    "        self.__name = name  # Private attribute\n",
    "        self.__symbol = symbol  # Private attribute\n",
    "        self.__number = number  # Private attribute\n",
    "    \n",
    "    # Getter property for name\n",
    "    @property\n",
    "    def name(self):\n",
    "        return self.__name\n",
    "    \n",
    "    # Getter property for symbol\n",
    "    @property\n",
    "    def symbol(self):\n",
    "        return self.__symbol\n",
    "    \n",
    "    # Getter property for number\n",
    "    @property\n",
    "    def number(self):\n",
    "        return self.__number\n",
    "\n",
    "# Create an object (instance) of the Element class using values\n",
    "hydrogen = Element('Hydrogen', 'H', 1)\n",
    "\n",
    "# Access attributes using the getter properties\n",
    "print(hydrogen.name)  # Output: Hydrogen\n",
    "print(hydrogen.symbol)  # Output: H\n",
    "print(hydrogen.number)  # Output: 1"
   ]
  },
  {
   "cell_type": "markdown",
   "id": "05d708d2",
   "metadata": {},
   "source": [
    "# 9."
   ]
  },
  {
   "cell_type": "code",
   "execution_count": 15,
   "id": "e72754c2",
   "metadata": {},
   "outputs": [
    {
     "name": "stdout",
     "output_type": "stream",
     "text": [
      "Bear eats: berries\n",
      "Rabbit eats: clover\n",
      "Octothorpe eats: campers\n"
     ]
    }
   ],
   "source": [
    "# code:\n",
    "class Bear:\n",
    "    def eats(self):\n",
    "        return 'berries'\n",
    "\n",
    "class Rabbit:\n",
    "    def eats(self):\n",
    "        return 'clover'\n",
    "\n",
    "class Octothorpe:\n",
    "    def eats(self):\n",
    "        return 'campers'\n",
    "\n",
    "# Create objects from each class\n",
    "bear = Bear()\n",
    "rabbit = Rabbit()\n",
    "octothorpe = Octothorpe()\n",
    "\n",
    "# Print what each object eats\n",
    "print(f\"Bear eats: {bear.eats()}\")  # Output: Bear eats: berries\n",
    "print(f\"Rabbit eats: {rabbit.eats()}\")  # Output: Rabbit eats: clover\n",
    "print(f\"Octothorpe eats: {octothorpe.eats()}\")  # Output: Octothorpe eats: campers\n"
   ]
  },
  {
   "cell_type": "code",
   "execution_count": null,
   "id": "60eff7e0",
   "metadata": {},
   "outputs": [],
   "source": []
  }
 ],
 "metadata": {
  "kernelspec": {
   "display_name": "Python 3 (ipykernel)",
   "language": "python",
   "name": "python3"
  },
  "language_info": {
   "codemirror_mode": {
    "name": "ipython",
    "version": 3
   },
   "file_extension": ".py",
   "mimetype": "text/x-python",
   "name": "python",
   "nbconvert_exporter": "python",
   "pygments_lexer": "ipython3",
   "version": "3.11.5"
  }
 },
 "nbformat": 4,
 "nbformat_minor": 5
}
